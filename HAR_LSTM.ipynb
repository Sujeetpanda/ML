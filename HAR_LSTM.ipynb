{
  "nbformat": 4,
  "nbformat_minor": 0,
  "metadata": {
    "colab": {
      "name": "HAR_LSTM.ipynb",
      "version": "0.3.2",
      "provenance": [],
      "collapsed_sections": [],
      "include_colab_link": true
    },
    "language_info": {
      "codemirror_mode": {
        "name": "ipython",
        "version": 3
      },
      "file_extension": ".py",
      "mimetype": "text/x-python",
      "name": "python",
      "nbconvert_exporter": "python",
      "pygments_lexer": "ipython3",
      "version": "3.7.3"
    },
    "kernelspec": {
      "name": "python3",
      "display_name": "Python 3"
    },
    "accelerator": "GPU"
  },
  "cells": [
    {
      "cell_type": "markdown",
      "metadata": {
        "id": "view-in-github",
        "colab_type": "text"
      },
      "source": [
        "<a href=\"https://colab.research.google.com/github/Sujeetpanda/ML/blob/master/HAR_LSTM.ipynb\" target=\"_parent\"><img src=\"https://colab.research.google.com/assets/colab-badge.svg\" alt=\"Open In Colab\"/></a>"
      ]
    },
    {
      "cell_type": "code",
      "metadata": {
        "id": "QgChWDJfmfxW",
        "colab_type": "code",
        "colab": {}
      },
      "source": [
        "# Importing Libraries"
      ],
      "execution_count": 0,
      "outputs": []
    },
    {
      "cell_type": "code",
      "metadata": {
        "id": "D5SABiX_mfxf",
        "colab_type": "code",
        "colab": {}
      },
      "source": [
        "import pandas as pd\n",
        "import numpy as np\n",
        "import matplotlib.pyplot as plt"
      ],
      "execution_count": 0,
      "outputs": []
    },
    {
      "cell_type": "code",
      "metadata": {
        "id": "8Lrl87V8mnQc",
        "colab_type": "code",
        "outputId": "d3a53025-3614-4f7d-f496-652d589825ed",
        "colab": {
          "base_uri": "https://localhost:8080/",
          "height": 128
        }
      },
      "source": [
        "from google.colab import drive \n",
        "drive.mount(\"/content/drive\")"
      ],
      "execution_count": 0,
      "outputs": [
        {
          "output_type": "stream",
          "text": [
            "Go to this URL in a browser: https://accounts.google.com/o/oauth2/auth?client_id=947318989803-6bn6qk8qdgf4n4g3pfee6491hc0brc4i.apps.googleusercontent.com&redirect_uri=urn%3Aietf%3Awg%3Aoauth%3A2.0%3Aoob&scope=email%20https%3A%2F%2Fwww.googleapis.com%2Fauth%2Fdocs.test%20https%3A%2F%2Fwww.googleapis.com%2Fauth%2Fdrive%20https%3A%2F%2Fwww.googleapis.com%2Fauth%2Fdrive.photos.readonly%20https%3A%2F%2Fwww.googleapis.com%2Fauth%2Fpeopleapi.readonly&response_type=code\n",
            "\n",
            "Enter your authorization code:\n",
            "··········\n",
            "Mounted at /content/drive\n"
          ],
          "name": "stdout"
        }
      ]
    },
    {
      "cell_type": "code",
      "metadata": {
        "id": "3EFArTBwmfxk",
        "colab_type": "code",
        "colab": {}
      },
      "source": [
        "# Activities are the class labels\n",
        "# It is a 6 class classification\n",
        "ACTIVITIES = {\n",
        "    0: 'WALKING',\n",
        "    1: 'WALKING_UPSTAIRS',\n",
        "    2: 'WALKING_DOWNSTAIRS',\n",
        "    3: 'SITTING',\n",
        "    4: 'STANDING',\n",
        "    5: 'LAYING',\n",
        "}\n",
        "\n",
        "# Utility function to print the confusion matrix\n",
        "def confusion_matrix(Y_true, Y_pred):\n",
        "    Y_true = pd.Series([ACTIVITIES[y] for y in np.argmax(Y_true, axis=1)])\n",
        "    Y_pred = pd.Series([ACTIVITIES[y] for y in np.argmax(Y_pred, axis=1)])\n",
        "\n",
        "    return pd.crosstab(Y_true, Y_pred, rownames=['True'], colnames=['Pred'])"
      ],
      "execution_count": 0,
      "outputs": []
    },
    {
      "cell_type": "markdown",
      "metadata": {
        "id": "U_T8gUUwmfxq",
        "colab_type": "text"
      },
      "source": [
        "### Data"
      ]
    },
    {
      "cell_type": "code",
      "metadata": {
        "id": "PzvMR5hmmfxr",
        "colab_type": "code",
        "colab": {}
      },
      "source": [
        "# Data directory\n",
        "DATADIR = 'UCI_HAR_Dataset'"
      ],
      "execution_count": 0,
      "outputs": []
    },
    {
      "cell_type": "code",
      "metadata": {
        "id": "WmNGo9yamfxw",
        "colab_type": "code",
        "colab": {}
      },
      "source": [
        "# Raw data signals\n",
        "# Signals are from Accelerometer and Gyroscope\n",
        "# The signals are in x,y,z directions\n",
        "# Sensor signals are filtered to have only body acceleration\n",
        "# excluding the acceleration due to gravity\n",
        "# Triaxial acceleration from the accelerometer is total acceleration\n",
        "SIGNALS = [\n",
        "    \"body_acc_x\",\n",
        "    \"body_acc_y\",\n",
        "    \"body_acc_z\",\n",
        "    \"body_gyro_x\",\n",
        "    \"body_gyro_y\",\n",
        "    \"body_gyro_z\",\n",
        "    \"total_acc_x\",\n",
        "    \"total_acc_y\",\n",
        "    \"total_acc_z\"\n",
        "]"
      ],
      "execution_count": 0,
      "outputs": []
    },
    {
      "cell_type": "code",
      "metadata": {
        "id": "w_N58SDa73uI",
        "colab_type": "code",
        "colab": {}
      },
      "source": [
        "def plt_dynamic(x, vy, ty, ax, colors=['b']):\n",
        " ax.plot(x, vy, 'b', label=\"Validation Loss\")\n",
        " ax.plot(x, ty, 'r', label=\"Train Loss\")\n",
        " plt.legend()\n",
        " plt.grid()\n",
        " fig.canvas.draw()"
      ],
      "execution_count": 0,
      "outputs": []
    },
    {
      "cell_type": "code",
      "metadata": {
        "id": "BteWgT-6mfx1",
        "colab_type": "code",
        "colab": {}
      },
      "source": [
        "# Utility function to read the data from csv file\n",
        "def _read_csv(filename):\n",
        "    return pd.read_csv(filename, delim_whitespace=True, header=None)\n",
        "\n",
        "# Utility function to load the load\n",
        "def load_signals(subset):\n",
        "    signals_data = []\n",
        "\n",
        "    for signal in SIGNALS:\n",
        "        filename = f'/content/drive/My Drive/HAR/UCI_HAR_Dataset/{subset}/Inertial Signals/{signal}_{subset}.txt'\n",
        "        signals_data.append(\n",
        "            _read_csv(filename).as_matrix()\n",
        "        ) \n",
        "\n",
        "    # Transpose is used to change the dimensionality of the output,\n",
        "    # aggregating the signals by combination of sample/timestep.\n",
        "    # Resultant shape is (7352 train/2947 test samples, 128 timesteps, 9 signals)\n",
        "    return np.transpose(signals_data, (1, 2, 0))"
      ],
      "execution_count": 0,
      "outputs": []
    },
    {
      "cell_type": "code",
      "metadata": {
        "id": "ugph0juMmfx9",
        "colab_type": "code",
        "colab": {}
      },
      "source": [
        "\n",
        "def load_y(subset):\n",
        "    \"\"\"\n",
        "    The objective that we are trying to predict is a integer, from 1 to 6,\n",
        "    that represents a human activity. We return a binary representation of \n",
        "    every sample objective as a 6 bits vector using One Hot Encoding\n",
        "    (https://pandas.pydata.org/pandas-docs/stable/generated/pandas.get_dummies.html)\n",
        "    \"\"\"\n",
        "    filename = f'/content/drive/My Drive/HAR/UCI_HAR_Dataset/{subset}/y_{subset}.txt'\n",
        "    y = _read_csv(filename)[0]\n",
        "\n",
        "    return pd.get_dummies(y).as_matrix()"
      ],
      "execution_count": 0,
      "outputs": []
    },
    {
      "cell_type": "code",
      "metadata": {
        "id": "edInmgB5mfyC",
        "colab_type": "code",
        "colab": {}
      },
      "source": [
        "def load_data():\n",
        "    \"\"\"\n",
        "    Obtain the dataset from multiple files.\n",
        "    Returns: X_train, X_test, y_train, y_test\n",
        "    \"\"\"\n",
        "    X_train, X_test = load_signals('train'), load_signals('test')\n",
        "    y_train, y_test = load_y('train'), load_y('test')\n",
        "\n",
        "    return X_train, X_test, y_train, y_test"
      ],
      "execution_count": 0,
      "outputs": []
    },
    {
      "cell_type": "code",
      "metadata": {
        "id": "S1kMpuVRmfyI",
        "colab_type": "code",
        "colab": {}
      },
      "source": [
        "# Importing tensorflow\n",
        "np.random.seed(42)\n",
        "import tensorflow as tf\n",
        "tf.set_random_seed(42)"
      ],
      "execution_count": 0,
      "outputs": []
    },
    {
      "cell_type": "code",
      "metadata": {
        "id": "D_TKS9dVmfyT",
        "colab_type": "code",
        "colab": {}
      },
      "source": [
        "# Configuring a session\n",
        "session_conf = tf.ConfigProto(\n",
        "    intra_op_parallelism_threads=1,\n",
        "    inter_op_parallelism_threads=1\n",
        ")"
      ],
      "execution_count": 0,
      "outputs": []
    },
    {
      "cell_type": "code",
      "metadata": {
        "id": "pxfxFAP-mfyZ",
        "colab_type": "code",
        "outputId": "106fe6a6-bc3f-4758-a40e-9ee239142547",
        "colab": {
          "base_uri": "https://localhost:8080/",
          "height": 35
        }
      },
      "source": [
        "# Import Keras\n",
        "from keras import backend as K\n",
        "sess = tf.Session(graph=tf.get_default_graph(), config=session_conf)\n",
        "K.set_session(sess)"
      ],
      "execution_count": 0,
      "outputs": [
        {
          "output_type": "stream",
          "text": [
            "Using TensorFlow backend.\n"
          ],
          "name": "stderr"
        }
      ]
    },
    {
      "cell_type": "code",
      "metadata": {
        "id": "I9IYq5bKmfye",
        "colab_type": "code",
        "colab": {}
      },
      "source": [
        "# Importing libraries\n",
        "from keras.models import Sequential\n",
        "from keras.layers import LSTM\n",
        "from keras.layers.core import Dense, Dropout"
      ],
      "execution_count": 0,
      "outputs": []
    },
    {
      "cell_type": "code",
      "metadata": {
        "id": "7RcFiVkWmfyl",
        "colab_type": "code",
        "colab": {}
      },
      "source": [
        "# Initializing parameters\n",
        "epochs = 30\n",
        "batch_size = 16\n",
        "n_hidden = 32"
      ],
      "execution_count": 0,
      "outputs": []
    },
    {
      "cell_type": "code",
      "metadata": {
        "id": "RmnFFZB1mfyq",
        "colab_type": "code",
        "colab": {}
      },
      "source": [
        "# Utility function to count the number of classes\n",
        "def _count_classes(y):\n",
        "    return len(set([tuple(category) for category in y]))"
      ],
      "execution_count": 0,
      "outputs": []
    },
    {
      "cell_type": "code",
      "metadata": {
        "id": "GfgGXN65oPmq",
        "colab_type": "code",
        "outputId": "52d12a97-2e76-493d-97a8-1727886429e9",
        "colab": {
          "base_uri": "https://localhost:8080/",
          "height": 35
        }
      },
      "source": [
        "!ls \"/content/drive/My Drive\""
      ],
      "execution_count": 0,
      "outputs": [
        {
          "output_type": "stream",
          "text": [
            "'Colab Notebooks'   Resume_Ajit.doc   test.csv\t train.csv\n"
          ],
          "name": "stdout"
        }
      ]
    },
    {
      "cell_type": "code",
      "metadata": {
        "id": "xkvCIowumfyw",
        "colab_type": "code",
        "outputId": "85cbf101-cd3d-4c7f-c0a8-cac2f20a0bc5",
        "colab": {
          "base_uri": "https://localhost:8080/",
          "height": 90
        }
      },
      "source": [
        "# Loading the train and test data\n",
        "X_train, X_test, Y_train, Y_test = load_data()"
      ],
      "execution_count": 0,
      "outputs": [
        {
          "output_type": "stream",
          "text": [
            "/usr/local/lib/python3.6/dist-packages/ipykernel_launcher.py:11: FutureWarning: Method .as_matrix will be removed in a future version. Use .values instead.\n",
            "  # This is added back by InteractiveShellApp.init_path()\n",
            "/usr/local/lib/python3.6/dist-packages/ipykernel_launcher.py:12: FutureWarning: Method .as_matrix will be removed in a future version. Use .values instead.\n",
            "  if sys.path[0] == '':\n"
          ],
          "name": "stderr"
        }
      ]
    },
    {
      "cell_type": "code",
      "metadata": {
        "id": "nSOmLHC0mfy1",
        "colab_type": "code",
        "outputId": "ed4431c2-1cf1-401a-e789-19ec006547a5",
        "colab": {
          "base_uri": "https://localhost:8080/",
          "height": 72
        }
      },
      "source": [
        "timesteps = len(X_train[0])\n",
        "input_dim = len(X_train[0][0])\n",
        "n_classes = _count_classes(Y_train)\n",
        "\n",
        "print(timesteps)\n",
        "print(input_dim)\n",
        "print(len(X_train))"
      ],
      "execution_count": 0,
      "outputs": [
        {
          "output_type": "stream",
          "text": [
            "128\n",
            "9\n",
            "7352\n"
          ],
          "name": "stdout"
        }
      ]
    },
    {
      "cell_type": "markdown",
      "metadata": {
        "id": "QNEfhUt_mfy9",
        "colab_type": "text"
      },
      "source": [
        "- Defining the Architecture of LSTM"
      ]
    },
    {
      "cell_type": "code",
      "metadata": {
        "id": "SjEJBxJEmfzA",
        "colab_type": "code",
        "outputId": "a614d50b-34e1-4987-fbfa-afbf339de41f",
        "colab": {
          "base_uri": "https://localhost:8080/",
          "height": 326
        }
      },
      "source": [
        "# Initiliazing the sequential model\n",
        "model = Sequential()\n",
        "# Configuring the parameters\n",
        "model.add(LSTM(n_hidden, input_shape=(timesteps, input_dim),return_sequences=True))\n",
        "# Adding a dropout layer\n",
        "model.add(Dropout(0.5))\n",
        "#Adding LSTM layer2\n",
        "model.add(LSTM(20))\n",
        "model.add(Dropout(0.5))\n",
        "# Adding a dense output layer with sigmoid activation\n",
        "model.add(Dense(n_classes, activation='sigmoid'))\n",
        "model.summary()"
      ],
      "execution_count": 0,
      "outputs": [
        {
          "output_type": "stream",
          "text": [
            "_________________________________________________________________\n",
            "Layer (type)                 Output Shape              Param #   \n",
            "=================================================================\n",
            "lstm_5 (LSTM)                (None, 128, 32)           5376      \n",
            "_________________________________________________________________\n",
            "dropout_5 (Dropout)          (None, 128, 32)           0         \n",
            "_________________________________________________________________\n",
            "lstm_6 (LSTM)                (None, 20)                4240      \n",
            "_________________________________________________________________\n",
            "dropout_6 (Dropout)          (None, 20)                0         \n",
            "_________________________________________________________________\n",
            "dense_2 (Dense)              (None, 6)                 126       \n",
            "=================================================================\n",
            "Total params: 9,742\n",
            "Trainable params: 9,742\n",
            "Non-trainable params: 0\n",
            "_________________________________________________________________\n"
          ],
          "name": "stdout"
        }
      ]
    },
    {
      "cell_type": "code",
      "metadata": {
        "id": "r5ciJNQHmfzH",
        "colab_type": "code",
        "colab": {}
      },
      "source": [
        "# Compiling the model\n",
        "model.compile(loss='categorical_crossentropy',\n",
        "              optimizer='rmsprop',\n",
        "              metrics=['accuracy'])"
      ],
      "execution_count": 0,
      "outputs": []
    },
    {
      "cell_type": "code",
      "metadata": {
        "id": "axDGzY1MmfzR",
        "colab_type": "code",
        "outputId": "ef3dde8d-031f-4dc2-ae9e-3754c539e134",
        "colab": {
          "base_uri": "https://localhost:8080/",
          "height": 1126
        }
      },
      "source": [
        "# Training the model\n",
        "history = model.fit(X_train,\n",
        "          Y_train,\n",
        "          batch_size=batch_size,\n",
        "          validation_data=(X_test, Y_test),\n",
        "          epochs=epochs)"
      ],
      "execution_count": 0,
      "outputs": [
        {
          "output_type": "stream",
          "text": [
            "Train on 7352 samples, validate on 2947 samples\n",
            "Epoch 1/30\n",
            "7352/7352 [==============================] - 54s 7ms/step - loss: 0.1759 - acc: 0.9433 - val_loss: 0.4292 - val_acc: 0.8975\n",
            "Epoch 2/30\n",
            "7352/7352 [==============================] - 54s 7ms/step - loss: 0.1782 - acc: 0.9437 - val_loss: 0.5832 - val_acc: 0.9074\n",
            "Epoch 3/30\n",
            "7352/7352 [==============================] - 54s 7ms/step - loss: 0.1774 - acc: 0.9440 - val_loss: 0.4903 - val_acc: 0.8962\n",
            "Epoch 4/30\n",
            "7352/7352 [==============================] - 54s 7ms/step - loss: 0.1673 - acc: 0.9448 - val_loss: 0.4870 - val_acc: 0.9053\n",
            "Epoch 5/30\n",
            "7352/7352 [==============================] - 55s 7ms/step - loss: 0.1567 - acc: 0.9524 - val_loss: 0.4249 - val_acc: 0.9077\n",
            "Epoch 6/30\n",
            "7352/7352 [==============================] - 54s 7ms/step - loss: 0.1534 - acc: 0.9494 - val_loss: 0.5312 - val_acc: 0.9063\n",
            "Epoch 7/30\n",
            "7352/7352 [==============================] - 55s 7ms/step - loss: 0.1774 - acc: 0.9480 - val_loss: 0.5193 - val_acc: 0.9050\n",
            "Epoch 8/30\n",
            "7352/7352 [==============================] - 55s 7ms/step - loss: 0.1557 - acc: 0.9480 - val_loss: 0.6519 - val_acc: 0.8958\n",
            "Epoch 9/30\n",
            "7352/7352 [==============================] - 55s 7ms/step - loss: 0.1667 - acc: 0.9498 - val_loss: 0.5621 - val_acc: 0.9013\n",
            "Epoch 10/30\n",
            "7352/7352 [==============================] - 54s 7ms/step - loss: nan - acc: 0.9478 - val_loss: 0.4564 - val_acc: 0.9063\n",
            "Epoch 11/30\n",
            "7352/7352 [==============================] - 55s 7ms/step - loss: 0.1619 - acc: 0.9491 - val_loss: 0.4327 - val_acc: 0.9118\n",
            "Epoch 12/30\n",
            "7352/7352 [==============================] - 55s 7ms/step - loss: 0.1557 - acc: 0.9502 - val_loss: 0.5089 - val_acc: 0.9033\n",
            "Epoch 13/30\n",
            "7352/7352 [==============================] - 54s 7ms/step - loss: 0.1637 - acc: 0.9400 - val_loss: 0.5467 - val_acc: 0.8975\n",
            "Epoch 14/30\n",
            "7352/7352 [==============================] - 54s 7ms/step - loss: 0.1452 - acc: 0.9502 - val_loss: 0.4449 - val_acc: 0.9138\n",
            "Epoch 15/30\n",
            "7352/7352 [==============================] - 55s 7ms/step - loss: 0.1499 - acc: 0.9441 - val_loss: 0.5693 - val_acc: 0.8989\n",
            "Epoch 16/30\n",
            "7352/7352 [==============================] - 55s 7ms/step - loss: 0.1611 - acc: 0.9457 - val_loss: 0.5403 - val_acc: 0.9046\n",
            "Epoch 17/30\n",
            "7352/7352 [==============================] - 55s 7ms/step - loss: 0.1465 - acc: 0.9471 - val_loss: 0.5223 - val_acc: 0.9057\n",
            "Epoch 18/30\n",
            "7352/7352 [==============================] - 54s 7ms/step - loss: 0.1413 - acc: 0.9480 - val_loss: 0.5231 - val_acc: 0.9084\n",
            "Epoch 19/30\n",
            "7352/7352 [==============================] - 54s 7ms/step - loss: 0.1460 - acc: 0.9461 - val_loss: 0.5196 - val_acc: 0.9118\n",
            "Epoch 20/30\n",
            "7352/7352 [==============================] - 54s 7ms/step - loss: 0.1471 - acc: 0.9486 - val_loss: 0.4355 - val_acc: 0.9131\n",
            "Epoch 21/30\n",
            "7352/7352 [==============================] - 54s 7ms/step - loss: 0.1533 - acc: 0.9486 - val_loss: 0.6379 - val_acc: 0.8860\n",
            "Epoch 22/30\n",
            "7352/7352 [==============================] - 54s 7ms/step - loss: 0.1592 - acc: 0.9463 - val_loss: 0.5036 - val_acc: 0.9060\n",
            "Epoch 23/30\n",
            "7352/7352 [==============================] - 54s 7ms/step - loss: 0.1367 - acc: 0.9501 - val_loss: 0.5312 - val_acc: 0.9101\n",
            "Epoch 24/30\n",
            "7352/7352 [==============================] - 54s 7ms/step - loss: 0.1370 - acc: 0.9499 - val_loss: 0.5304 - val_acc: 0.9118\n",
            "Epoch 25/30\n",
            "7352/7352 [==============================] - 54s 7ms/step - loss: 0.1523 - acc: 0.9517 - val_loss: 0.5316 - val_acc: 0.9070\n",
            "Epoch 26/30\n",
            "7352/7352 [==============================] - 54s 7ms/step - loss: 0.1349 - acc: 0.9506 - val_loss: 0.8384 - val_acc: 0.8795\n",
            "Epoch 27/30\n",
            "7352/7352 [==============================] - 55s 7ms/step - loss: 0.1463 - acc: 0.9505 - val_loss: 0.5122 - val_acc: 0.9080\n",
            "Epoch 28/30\n",
            "7352/7352 [==============================] - 54s 7ms/step - loss: 0.1328 - acc: 0.9523 - val_loss: 0.6118 - val_acc: 0.9036\n",
            "Epoch 29/30\n",
            "7352/7352 [==============================] - 54s 7ms/step - loss: 0.1402 - acc: 0.9490 - val_loss: 0.5784 - val_acc: 0.9036\n",
            "Epoch 30/30\n",
            "7352/7352 [==============================] - 54s 7ms/step - loss: nan - acc: 0.9523 - val_loss: 0.6095 - val_acc: 0.8992\n"
          ],
          "name": "stdout"
        }
      ]
    },
    {
      "cell_type": "code",
      "metadata": {
        "id": "1bndpDEqm2k_",
        "colab_type": "code",
        "colab": {}
      },
      "source": [
        ""
      ],
      "execution_count": 0,
      "outputs": []
    },
    {
      "cell_type": "code",
      "metadata": {
        "id": "azQFimT-mfzb",
        "colab_type": "code",
        "outputId": "98a959a2-bb98-4f93-80ab-2eeb5ea6ef5b",
        "colab": {
          "base_uri": "https://localhost:8080/",
          "height": 199
        }
      },
      "source": [
        "# Confusion Matrix\n",
        "print(confusion_matrix(Y_test, model.predict(X_test)))"
      ],
      "execution_count": 0,
      "outputs": [
        {
          "output_type": "stream",
          "text": [
            "Pred                LAYING  SITTING  ...  WALKING_DOWNSTAIRS  WALKING_UPSTAIRS\n",
            "True                                 ...                                      \n",
            "LAYING                 510        0  ...                   0                 0\n",
            "SITTING                  1      393  ...                   0                 0\n",
            "STANDING                 0      106  ...                   0                 0\n",
            "WALKING                  0        1  ...                  28                 4\n",
            "WALKING_DOWNSTAIRS       0        0  ...                 407                13\n",
            "WALKING_UPSTAIRS         0        1  ...                   9               453\n",
            "\n",
            "[6 rows x 6 columns]\n"
          ],
          "name": "stdout"
        }
      ]
    },
    {
      "cell_type": "code",
      "metadata": {
        "id": "wgNFiJpwmfzi",
        "colab_type": "code",
        "outputId": "e00715c7-3b74-4937-ebe3-4d1674eb7630",
        "colab": {
          "base_uri": "https://localhost:8080/",
          "height": 35
        }
      },
      "source": [
        "score = model.evaluate(X_test, Y_test)"
      ],
      "execution_count": 0,
      "outputs": [
        {
          "output_type": "stream",
          "text": [
            "2947/2947 [==============================] - 2s 598us/step\n"
          ],
          "name": "stdout"
        }
      ]
    },
    {
      "cell_type": "code",
      "metadata": {
        "id": "A-VnuZjbmfzq",
        "colab_type": "code",
        "outputId": "ee0ada7c-a537-4e9b-d278-978f5b28f3cc",
        "colab": {
          "base_uri": "https://localhost:8080/",
          "height": 35
        }
      },
      "source": [
        "score"
      ],
      "execution_count": 0,
      "outputs": [
        {
          "output_type": "execute_result",
          "data": {
            "text/plain": [
              "[0.6094993375524109, 0.8992195453003053]"
            ]
          },
          "metadata": {
            "tags": []
          },
          "execution_count": 52
        }
      ]
    },
    {
      "cell_type": "markdown",
      "metadata": {
        "id": "LbK7MV7Nmfzw",
        "colab_type": "text"
      },
      "source": [
        "- With a simple 2 layer architecture we got 92.12% accuracy and a loss of 0.37\n",
        "- We can further imporve the performace with Hyperparameter tuning"
      ]
    },
    {
      "cell_type": "code",
      "metadata": {
        "id": "IDid_CAU8Zxk",
        "colab_type": "code",
        "outputId": "704e1e73-26d8-4609-cb55-f55793e65d5d",
        "colab": {
          "base_uri": "https://localhost:8080/",
          "height": 284
        }
      },
      "source": [
        "fig,ax = plt.subplots(1,1)\n",
        "ax.set_xlabel('epoch') ; ax.set_ylabel('Loss')\n",
        "x = list(range(1,epochs+1))\n",
        "\n",
        "vy1 = history.history['val_loss']\n",
        "ty1 = history.history['loss']\n",
        "plt_dynamic(x, vy1, ty1, ax)"
      ],
      "execution_count": 0,
      "outputs": [
        {
          "output_type": "display_data",
          "data": {
            "image/png": "[encoded data removed]",
            "text/plain": [
              "<Figure size 432x288 with 1 Axes>"
            ]
          },
          "metadata": {
            "tags": []
          }
        }
      ]
    },
    {
      "cell_type": "code",
      "metadata": {
        "id": "zsTRnqABrnuL",
        "colab_type": "code",
        "colab": {}
      },
      "source": [
        "################"
      ],
      "execution_count": 0,
      "outputs": []
    },
    {
      "cell_type": "code",
      "metadata": {
        "id": "DLVQal6PsCbW",
        "colab_type": "code",
        "outputId": "3f6ac96b-e23f-419f-9d66-96c830528710",
        "colab": {
          "base_uri": "https://localhost:8080/",
          "height": 601
        }
      },
      "source": [
        "from keras.layers.normalization import BatchNormalization\n",
        "# Initiliazing the sequential model\n",
        "model = Sequential()\n",
        "# Configuring the parameters\n",
        "model.add(LSTM(n_hidden, input_shape=(timesteps, input_dim),return_sequences=True))\n",
        "# Adding a dropout layer\n",
        "model.add(Dropout(0.4))\n",
        "#Adding LSTM layer2\n",
        "model.add(LSTM(20))\n",
        "model.add(Dropout(0.4))\n",
        "model.add(BatchNormalization())\n",
        "# Adding a dense output layer with sigmoid activation\n",
        "model.add(Dense(n_classes, activation='sigmoid'))\n",
        "model.summary()"
      ],
      "execution_count": 0,
      "outputs": [
        {
          "output_type": "stream",
          "text": [
            "WARNING: Logging before flag parsing goes to stderr.\n",
            "W0625 23:47:54.783077 139662037555072 deprecation_wrapper.py:119] From /usr/local/lib/python3.6/dist-packages/keras/backend/tensorflow_backend.py:74: The name tf.get_default_graph is deprecated. Please use tf.compat.v1.get_default_graph instead.\n",
            "\n",
            "W0625 23:47:54.790283 139662037555072 deprecation_wrapper.py:119] From /usr/local/lib/python3.6/dist-packages/keras/backend/tensorflow_backend.py:517: The name tf.placeholder is deprecated. Please use tf.compat.v1.placeholder instead.\n",
            "\n",
            "W0625 23:47:54.798794 139662037555072 deprecation_wrapper.py:119] From /usr/local/lib/python3.6/dist-packages/keras/backend/tensorflow_backend.py:4138: The name tf.random_uniform is deprecated. Please use tf.random.uniform instead.\n",
            "\n",
            "W0625 23:47:55.003332 139662037555072 deprecation_wrapper.py:119] From /usr/local/lib/python3.6/dist-packages/keras/backend/tensorflow_backend.py:133: The name tf.placeholder_with_default is deprecated. Please use tf.compat.v1.placeholder_with_default instead.\n",
            "\n",
            "W0625 23:47:55.012039 139662037555072 deprecation.py:506] From /usr/local/lib/python3.6/dist-packages/keras/backend/tensorflow_backend.py:3445: calling dropout (from tensorflow.python.ops.nn_ops) with keep_prob is deprecated and will be removed in a future version.\n",
            "Instructions for updating:\n",
            "Please use `rate` instead of `keep_prob`. Rate should be set to `rate = 1 - keep_prob`.\n"
          ],
          "name": "stderr"
        },
        {
          "output_type": "stream",
          "text": [
            "_________________________________________________________________\n",
            "Layer (type)                 Output Shape              Param #   \n",
            "=================================================================\n",
            "lstm_1 (LSTM)                (None, 128, 32)           5376      \n",
            "_________________________________________________________________\n",
            "dropout_1 (Dropout)          (None, 128, 32)           0         \n",
            "_________________________________________________________________\n",
            "lstm_2 (LSTM)                (None, 20)                4240      \n",
            "_________________________________________________________________\n",
            "dropout_2 (Dropout)          (None, 20)                0         \n",
            "_________________________________________________________________\n",
            "batch_normalization_1 (Batch (None, 20)                80        \n",
            "_________________________________________________________________\n",
            "dense_1 (Dense)              (None, 6)                 126       \n",
            "=================================================================\n",
            "Total params: 9,822\n",
            "Trainable params: 9,782\n",
            "Non-trainable params: 40\n",
            "_________________________________________________________________\n"
          ],
          "name": "stdout"
        }
      ]
    },
    {
      "cell_type": "code",
      "metadata": {
        "id": "Q1bgLREYmyfh",
        "colab_type": "code",
        "outputId": "f7b8aa49-344d-45ca-c6b1-59078116446c",
        "colab": {
          "base_uri": "https://localhost:8080/",
          "height": 110
        }
      },
      "source": [
        "# Compiling the model\n",
        "model.compile(loss='categorical_crossentropy',\n",
        "              optimizer='rmsprop',\n",
        "              metrics=['accuracy'])"
      ],
      "execution_count": 0,
      "outputs": [
        {
          "output_type": "stream",
          "text": [
            "W0625 23:48:00.554600 139662037555072 deprecation_wrapper.py:119] From /usr/local/lib/python3.6/dist-packages/keras/optimizers.py:790: The name tf.train.Optimizer is deprecated. Please use tf.compat.v1.train.Optimizer instead.\n",
            "\n",
            "W0625 23:48:00.587253 139662037555072 deprecation_wrapper.py:119] From /usr/local/lib/python3.6/dist-packages/keras/backend/tensorflow_backend.py:3295: The name tf.log is deprecated. Please use tf.math.log instead.\n",
            "\n"
          ],
          "name": "stderr"
        }
      ]
    },
    {
      "cell_type": "code",
      "metadata": {
        "id": "vH8pL6kKm37W",
        "colab_type": "code",
        "outputId": "20b9a9ac-8688-4d6c-f0cd-b0d9b2d13d3a",
        "colab": {
          "base_uri": "https://localhost:8080/",
          "height": 1201
        }
      },
      "source": [
        "# Training the model\n",
        "history = model.fit(X_train,\n",
        "          Y_train,\n",
        "          batch_size=batch_size,\n",
        "          validation_data=(X_test, Y_test),\n",
        "          epochs=epochs)"
      ],
      "execution_count": 0,
      "outputs": [
        {
          "output_type": "stream",
          "text": [
            "W0625 23:48:05.401105 139662037555072 deprecation.py:323] From /usr/local/lib/python3.6/dist-packages/tensorflow/python/ops/math_grad.py:1250: add_dispatch_support.<locals>.wrapper (from tensorflow.python.ops.array_ops) is deprecated and will be removed in a future version.\n",
            "Instructions for updating:\n",
            "Use tf.where in 2.0, which has the same broadcast rule as np.where\n"
          ],
          "name": "stderr"
        },
        {
          "output_type": "stream",
          "text": [
            "Train on 7352 samples, validate on 2947 samples\n",
            "Epoch 1/30\n",
            "7352/7352 [==============================] - 192s 26ms/step - loss: 1.1726 - acc: 0.5316 - val_loss: 0.8162 - val_acc: 0.7044\n",
            "Epoch 2/30\n",
            "7352/7352 [==============================] - 185s 25ms/step - loss: 0.7946 - acc: 0.6383 - val_loss: 0.7177 - val_acc: 0.6865\n",
            "Epoch 3/30\n",
            "7352/7352 [==============================] - 184s 25ms/step - loss: 0.6149 - acc: 0.7522 - val_loss: 0.6250 - val_acc: 0.7893\n",
            "Epoch 4/30\n",
            "7352/7352 [==============================] - 183s 25ms/step - loss: 0.4003 - acc: 0.8766 - val_loss: 0.5269 - val_acc: 0.8459\n",
            "Epoch 5/30\n",
            "7352/7352 [==============================] - 181s 25ms/step - loss: 0.3207 - acc: 0.9018 - val_loss: 0.4816 - val_acc: 0.8619\n",
            "Epoch 6/30\n",
            "7352/7352 [==============================] - 182s 25ms/step - loss: 0.2648 - acc: 0.9140 - val_loss: 0.4951 - val_acc: 0.8775\n",
            "Epoch 7/30\n",
            "7352/7352 [==============================] - 181s 25ms/step - loss: 0.2280 - acc: 0.9219 - val_loss: 0.3524 - val_acc: 0.8985\n",
            "Epoch 8/30\n",
            "7352/7352 [==============================] - 182s 25ms/step - loss: 0.2223 - acc: 0.9255 - val_loss: 0.4851 - val_acc: 0.8911\n",
            "Epoch 9/30\n",
            "7352/7352 [==============================] - 181s 25ms/step - loss: 0.2048 - acc: 0.9275 - val_loss: 0.4607 - val_acc: 0.8955\n",
            "Epoch 10/30\n",
            "7352/7352 [==============================] - 180s 24ms/step - loss: 0.1934 - acc: 0.9342 - val_loss: 0.6429 - val_acc: 0.8687\n",
            "Epoch 11/30\n",
            "7352/7352 [==============================] - 179s 24ms/step - loss: 0.1991 - acc: 0.9336 - val_loss: 0.4421 - val_acc: 0.8965\n",
            "Epoch 12/30\n",
            "7352/7352 [==============================] - 179s 24ms/step - loss: 0.1797 - acc: 0.9378 - val_loss: 0.4223 - val_acc: 0.9016\n",
            "Epoch 13/30\n",
            "7352/7352 [==============================] - 181s 25ms/step - loss: 0.1688 - acc: 0.9416 - val_loss: 0.4154 - val_acc: 0.8992\n",
            "Epoch 14/30\n",
            "7352/7352 [==============================] - 179s 24ms/step - loss: 0.1740 - acc: 0.9384 - val_loss: 0.3983 - val_acc: 0.9057\n",
            "Epoch 15/30\n",
            "7352/7352 [==============================] - 183s 25ms/step - loss: 0.1590 - acc: 0.9416 - val_loss: 0.7312 - val_acc: 0.8521\n",
            "Epoch 16/30\n",
            "7352/7352 [==============================] - 183s 25ms/step - loss: 0.1816 - acc: 0.9377 - val_loss: 0.3543 - val_acc: 0.9186\n",
            "Epoch 17/30\n",
            "7352/7352 [==============================] - 184s 25ms/step - loss: 0.1607 - acc: 0.9412 - val_loss: 0.4620 - val_acc: 0.9145\n",
            "Epoch 18/30\n",
            "7352/7352 [==============================] - 184s 25ms/step - loss: 0.1575 - acc: 0.9442 - val_loss: 0.3887 - val_acc: 0.9148\n",
            "Epoch 19/30\n",
            "7352/7352 [==============================] - 182s 25ms/step - loss: 0.1551 - acc: 0.9438 - val_loss: 0.6297 - val_acc: 0.8904\n",
            "Epoch 20/30\n",
            "7352/7352 [==============================] - 182s 25ms/step - loss: 0.1587 - acc: 0.9434 - val_loss: 0.6105 - val_acc: 0.8880\n",
            "Epoch 21/30\n",
            "7352/7352 [==============================] - 182s 25ms/step - loss: 0.1593 - acc: 0.9431 - val_loss: 0.3830 - val_acc: 0.9145\n",
            "Epoch 22/30\n",
            "7352/7352 [==============================] - 184s 25ms/step - loss: 0.1533 - acc: 0.9425 - val_loss: 0.3233 - val_acc: 0.9226\n",
            "Epoch 23/30\n",
            "7352/7352 [==============================] - 184s 25ms/step - loss: 0.1545 - acc: 0.9425 - val_loss: 0.5328 - val_acc: 0.9057\n",
            "Epoch 24/30\n",
            "7352/7352 [==============================] - 183s 25ms/step - loss: 0.1535 - acc: 0.9441 - val_loss: 0.2807 - val_acc: 0.9267\n",
            "Epoch 25/30\n",
            "7352/7352 [==============================] - 182s 25ms/step - loss: 0.1589 - acc: 0.9434 - val_loss: 0.2983 - val_acc: 0.9131\n",
            "Epoch 26/30\n",
            "7352/7352 [==============================] - 181s 25ms/step - loss: 0.1535 - acc: 0.9470 - val_loss: 0.6392 - val_acc: 0.8816\n",
            "Epoch 27/30\n",
            "7352/7352 [==============================] - 180s 24ms/step - loss: 0.1622 - acc: 0.9426 - val_loss: 0.5668 - val_acc: 0.8938\n",
            "Epoch 28/30\n",
            "7352/7352 [==============================] - 180s 24ms/step - loss: 0.1528 - acc: 0.9475 - val_loss: 0.5653 - val_acc: 0.9050\n",
            "Epoch 29/30\n",
            "7352/7352 [==============================] - 180s 25ms/step - loss: 0.1565 - acc: 0.9425 - val_loss: 0.5060 - val_acc: 0.9121\n",
            "Epoch 30/30\n",
            "7352/7352 [==============================] - 183s 25ms/step - loss: 0.1500 - acc: 0.9467 - val_loss: 0.5423 - val_acc: 0.9023\n"
          ],
          "name": "stdout"
        }
      ]
    },
    {
      "cell_type": "code",
      "metadata": {
        "id": "WFSb_v5l6K4B",
        "colab_type": "code",
        "outputId": "a8ddcd01-3d0c-4306-c8f8-8f43a9cab690",
        "colab": {
          "base_uri": "https://localhost:8080/",
          "height": 199
        }
      },
      "source": [
        "# Confusion Matrix\n",
        "print(confusion_matrix(Y_test, model.predict(X_test)))"
      ],
      "execution_count": 0,
      "outputs": [
        {
          "output_type": "stream",
          "text": [
            "Pred                LAYING  SITTING  ...  WALKING_DOWNSTAIRS  WALKING_UPSTAIRS\n",
            "True                                 ...                                      \n",
            "LAYING                 511        0  ...                   0                26\n",
            "SITTING                  3      387  ...                   0                21\n",
            "STANDING                 0      105  ...                   0                 0\n",
            "WALKING                  0        0  ...                   8                 2\n",
            "WALKING_DOWNSTAIRS       1        0  ...                 414                 0\n",
            "WALKING_UPSTAIRS         3        2  ...                   1               435\n",
            "\n",
            "[6 rows x 6 columns]\n"
          ],
          "name": "stdout"
        }
      ]
    },
    {
      "cell_type": "code",
      "metadata": {
        "id": "fnxQYR-V6eAx",
        "colab_type": "code",
        "outputId": "051025d8-7e21-45b5-a356-1fe84b6dacc9",
        "colab": {
          "base_uri": "https://localhost:8080/",
          "height": 35
        }
      },
      "source": [
        "score = model.evaluate(X_test, Y_test)"
      ],
      "execution_count": 0,
      "outputs": [
        {
          "output_type": "stream",
          "text": [
            "2947/2947 [==============================] - 13s 4ms/step\n"
          ],
          "name": "stdout"
        }
      ]
    },
    {
      "cell_type": "code",
      "metadata": {
        "id": "JGX0ura76W0K",
        "colab_type": "code",
        "outputId": "b22858b2-912f-4db0-ea7e-c7d0629373b1",
        "colab": {
          "base_uri": "https://localhost:8080/",
          "height": 35
        }
      },
      "source": [
        "score"
      ],
      "execution_count": 0,
      "outputs": [
        {
          "output_type": "execute_result",
          "data": {
            "text/plain": [
              "[0.5424100616930853, 0.9022734984730234]"
            ]
          },
          "metadata": {
            "tags": []
          },
          "execution_count": 24
        }
      ]
    },
    {
      "cell_type": "code",
      "metadata": {
        "id": "SskDSL5wLTl_",
        "colab_type": "code",
        "outputId": "4ba97763-00bb-4c0e-b507-bc8961b9c81c",
        "colab": {
          "base_uri": "https://localhost:8080/",
          "height": 284
        }
      },
      "source": [
        "fig,ax = plt.subplots(1,1)\n",
        "ax.set_xlabel('epoch') ; ax.set_ylabel('Loss')\n",
        "x = list(range(1,epochs+1))\n",
        "\n",
        "vy1 = history.history['val_loss']\n",
        "ty1 = history.history['loss']\n",
        "plt_dynamic(x, vy1, ty1, ax)"
      ],
      "execution_count": 0,
      "outputs": [
        {
          "output_type": "display_data",
          "data": {
            "image/png": "[encoded data removed]",
            "text/plain": [
              "<Figure size 432x288 with 1 Axes>"
            ]
          },
          "metadata": {
            "tags": []
          }
        }
      ]
    },
    {
      "cell_type": "code",
      "metadata": {
        "id": "cXPtL5sa59Qh",
        "colab_type": "code",
        "outputId": "f47c02a0-a8d4-4c5d-9963-e7a8b0473404",
        "colab": {
          "base_uri": "https://localhost:8080/",
          "height": 363
        }
      },
      "source": [
        "from keras.layers.normalization import BatchNormalization\n",
        "# Initiliazing the sequential model\n",
        "model = Sequential()\n",
        "# Configuring the parameters\n",
        "model.add(LSTM(16, input_shape=(timesteps, input_dim),return_sequences=True))\n",
        "# Adding a dropout layer\n",
        "model.add(Dropout(0.5))\n",
        "#Adding LSTM layer2\n",
        "model.add(LSTM(20))\n",
        "model.add(Dropout(0.5))\n",
        "model.add(BatchNormalization())\n",
        "# Adding a dense output layer with sigmoid activation\n",
        "model.add(Dense(n_classes, activation='sigmoid'))\n",
        "model.summary()"
      ],
      "execution_count": 0,
      "outputs": [
        {
          "output_type": "stream",
          "text": [
            "_________________________________________________________________\n",
            "Layer (type)                 Output Shape              Param #   \n",
            "=================================================================\n",
            "lstm_3 (LSTM)                (None, 128, 16)           1664      \n",
            "_________________________________________________________________\n",
            "dropout_3 (Dropout)          (None, 128, 16)           0         \n",
            "_________________________________________________________________\n",
            "lstm_4 (LSTM)                (None, 20)                2960      \n",
            "_________________________________________________________________\n",
            "dropout_4 (Dropout)          (None, 20)                0         \n",
            "_________________________________________________________________\n",
            "batch_normalization_2 (Batch (None, 20)                80        \n",
            "_________________________________________________________________\n",
            "dense_2 (Dense)              (None, 6)                 126       \n",
            "=================================================================\n",
            "Total params: 4,830\n",
            "Trainable params: 4,790\n",
            "Non-trainable params: 40\n",
            "_________________________________________________________________\n"
          ],
          "name": "stdout"
        }
      ]
    },
    {
      "cell_type": "code",
      "metadata": {
        "id": "MlcCC1ZJXuHF",
        "colab_type": "code",
        "colab": {}
      },
      "source": [
        "# Compiling the model\n",
        "model.compile(loss='categorical_crossentropy',\n",
        "              optimizer='rmsprop',\n",
        "              metrics=['accuracy'])"
      ],
      "execution_count": 0,
      "outputs": []
    },
    {
      "cell_type": "code",
      "metadata": {
        "id": "vGq1yU3mXytr",
        "colab_type": "code",
        "outputId": "d05bf3e1-c6f0-4030-8670-41f84fc4bc22",
        "colab": {
          "base_uri": "https://localhost:8080/",
          "height": 1126
        }
      },
      "source": [
        "# Training the model\n",
        "history = model.fit(X_train,\n",
        "          Y_train,\n",
        "          batch_size=batch_size,\n",
        "          validation_data=(X_test, Y_test),\n",
        "          epochs=epochs)"
      ],
      "execution_count": 0,
      "outputs": [
        {
          "output_type": "stream",
          "text": [
            "Train on 7352 samples, validate on 2947 samples\n",
            "Epoch 1/30\n",
            "7352/7352 [==============================] - 184s 25ms/step - loss: 1.3248 - acc: 0.4652 - val_loss: 1.0418 - val_acc: 0.5914\n",
            "Epoch 2/30\n",
            "7352/7352 [==============================] - 181s 25ms/step - loss: 0.9037 - acc: 0.6242 - val_loss: 0.7734 - val_acc: 0.6183\n",
            "Epoch 3/30\n",
            "7352/7352 [==============================] - 180s 24ms/step - loss: 0.7630 - acc: 0.6616 - val_loss: 0.7612 - val_acc: 0.6692\n",
            "Epoch 4/30\n",
            "7352/7352 [==============================] - 179s 24ms/step - loss: 0.6967 - acc: 0.6902 - val_loss: 0.6616 - val_acc: 0.7329\n",
            "Epoch 5/30\n",
            "7352/7352 [==============================] - 181s 25ms/step - loss: 0.6302 - acc: 0.7413 - val_loss: 0.6124 - val_acc: 0.7869\n",
            "Epoch 6/30\n",
            "7352/7352 [==============================] - 180s 24ms/step - loss: 0.5315 - acc: 0.8043 - val_loss: 0.6409 - val_acc: 0.8161\n",
            "Epoch 7/30\n",
            "7352/7352 [==============================] - 181s 25ms/step - loss: 0.4752 - acc: 0.8326 - val_loss: 0.6404 - val_acc: 0.7781\n",
            "Epoch 8/30\n",
            "7352/7352 [==============================] - 179s 24ms/step - loss: 0.4075 - acc: 0.8667 - val_loss: 0.5705 - val_acc: 0.8480\n",
            "Epoch 9/30\n",
            "7352/7352 [==============================] - 178s 24ms/step - loss: 0.3519 - acc: 0.8908 - val_loss: 0.3854 - val_acc: 0.8734\n",
            "Epoch 10/30\n",
            "7352/7352 [==============================] - 178s 24ms/step - loss: 0.3279 - acc: 0.8957 - val_loss: 0.3762 - val_acc: 0.8836\n",
            "Epoch 11/30\n",
            "7352/7352 [==============================] - 178s 24ms/step - loss: 0.2955 - acc: 0.9094 - val_loss: 0.4911 - val_acc: 0.8585\n",
            "Epoch 12/30\n",
            "7352/7352 [==============================] - 180s 24ms/step - loss: 0.2753 - acc: 0.9108 - val_loss: 0.3508 - val_acc: 0.8941\n",
            "Epoch 13/30\n",
            "7352/7352 [==============================] - 179s 24ms/step - loss: 0.2545 - acc: 0.9159 - val_loss: 0.3091 - val_acc: 0.8948\n",
            "Epoch 14/30\n",
            "7352/7352 [==============================] - 179s 24ms/step - loss: 0.2284 - acc: 0.9233 - val_loss: 0.3470 - val_acc: 0.8979\n",
            "Epoch 15/30\n",
            "7352/7352 [==============================] - 179s 24ms/step - loss: 0.2306 - acc: 0.9214 - val_loss: 0.3071 - val_acc: 0.9111\n",
            "Epoch 16/30\n",
            "7352/7352 [==============================] - 179s 24ms/step - loss: 0.2170 - acc: 0.9241 - val_loss: 0.3367 - val_acc: 0.8989\n",
            "Epoch 17/30\n",
            "7352/7352 [==============================] - 180s 25ms/step - loss: 0.2245 - acc: 0.9244 - val_loss: 0.5144 - val_acc: 0.8711\n",
            "Epoch 18/30\n",
            "7352/7352 [==============================] - 177s 24ms/step - loss: 0.2136 - acc: 0.9252 - val_loss: 0.4243 - val_acc: 0.8887\n",
            "Epoch 19/30\n",
            "7352/7352 [==============================] - 179s 24ms/step - loss: 0.2491 - acc: 0.9238 - val_loss: 0.3564 - val_acc: 0.8948\n",
            "Epoch 20/30\n",
            "7352/7352 [==============================] - 180s 24ms/step - loss: 0.2019 - acc: 0.9310 - val_loss: 0.3725 - val_acc: 0.9050\n",
            "Epoch 21/30\n",
            "7352/7352 [==============================] - 178s 24ms/step - loss: 0.2091 - acc: 0.9286 - val_loss: 0.3914 - val_acc: 0.9040\n",
            "Epoch 22/30\n",
            "7352/7352 [==============================] - 181s 25ms/step - loss: 0.2050 - acc: 0.9308 - val_loss: 0.4024 - val_acc: 0.8839\n",
            "Epoch 23/30\n",
            "7352/7352 [==============================] - 179s 24ms/step - loss: 0.2057 - acc: 0.9338 - val_loss: 0.3869 - val_acc: 0.8867\n",
            "Epoch 24/30\n",
            "7352/7352 [==============================] - 181s 25ms/step - loss: 0.2076 - acc: 0.9304 - val_loss: 0.4700 - val_acc: 0.8806\n",
            "Epoch 25/30\n",
            "7352/7352 [==============================] - 179s 24ms/step - loss: 0.1952 - acc: 0.9317 - val_loss: 0.3489 - val_acc: 0.9108\n",
            "Epoch 26/30\n",
            "7352/7352 [==============================] - 179s 24ms/step - loss: 0.2137 - acc: 0.9270 - val_loss: 0.5485 - val_acc: 0.8907\n",
            "Epoch 27/30\n",
            "7352/7352 [==============================] - 178s 24ms/step - loss: 0.1778 - acc: 0.9355 - val_loss: 0.5905 - val_acc: 0.8836\n",
            "Epoch 28/30\n",
            "7352/7352 [==============================] - 178s 24ms/step - loss: 0.2048 - acc: 0.9340 - val_loss: 0.3676 - val_acc: 0.9077\n",
            "Epoch 29/30\n",
            "7352/7352 [==============================] - 182s 25ms/step - loss: 0.1935 - acc: 0.9339 - val_loss: 0.3450 - val_acc: 0.9155\n",
            "Epoch 30/30\n",
            "7352/7352 [==============================] - 180s 24ms/step - loss: 0.2015 - acc: 0.9334 - val_loss: 0.3191 - val_acc: 0.9067\n"
          ],
          "name": "stdout"
        }
      ]
    },
    {
      "cell_type": "code",
      "metadata": {
        "id": "M-nSQ_j9raBT",
        "colab_type": "code",
        "outputId": "83155466-c0e1-43c5-d491-ef3b9dd94278",
        "colab": {
          "base_uri": "https://localhost:8080/",
          "height": 199
        }
      },
      "source": [
        "# Confusion Matrix\n",
        "print(confusion_matrix(Y_test, model.predict(X_test)))"
      ],
      "execution_count": 0,
      "outputs": [
        {
          "output_type": "stream",
          "text": [
            "Pred                LAYING  SITTING  ...  WALKING_DOWNSTAIRS  WALKING_UPSTAIRS\n",
            "True                                 ...                                      \n",
            "LAYING                 520        2  ...                   0                 0\n",
            "SITTING                  0      331  ...                   1                 4\n",
            "STANDING                 0       44  ...                   0                 2\n",
            "WALKING                  0        0  ...                   2                22\n",
            "WALKING_DOWNSTAIRS       0        0  ...                 407                 5\n",
            "WALKING_UPSTAIRS         0        0  ...                   3               465\n",
            "\n",
            "[6 rows x 6 columns]\n"
          ],
          "name": "stdout"
        }
      ]
    },
    {
      "cell_type": "code",
      "metadata": {
        "id": "RAlXhVTArhEf",
        "colab_type": "code",
        "outputId": "1f24db05-cb3f-4dc9-901c-e3089f6b6393",
        "colab": {
          "base_uri": "https://localhost:8080/",
          "height": 35
        }
      },
      "source": [
        "score = model.evaluate(X_test, Y_test)"
      ],
      "execution_count": 0,
      "outputs": [
        {
          "output_type": "stream",
          "text": [
            "2947/2947 [==============================] - 13s 5ms/step\n"
          ],
          "name": "stdout"
        }
      ]
    },
    {
      "cell_type": "code",
      "metadata": {
        "id": "8LHjyNXWrikd",
        "colab_type": "code",
        "outputId": "e5f737a3-d69a-497d-8202-a67535b7ad60",
        "colab": {
          "base_uri": "https://localhost:8080/",
          "height": 35
        }
      },
      "source": [
        "score"
      ],
      "execution_count": 0,
      "outputs": [
        {
          "output_type": "execute_result",
          "data": {
            "text/plain": [
              "[0.3193548226802096, 0.9066847641669494]"
            ]
          },
          "metadata": {
            "tags": []
          },
          "execution_count": 31
        }
      ]
    },
    {
      "cell_type": "code",
      "metadata": {
        "id": "yqcERCSqrdCQ",
        "colab_type": "code",
        "outputId": "8e478f6f-6a65-47ac-8f4e-f1cae2ef60ff",
        "colab": {
          "base_uri": "https://localhost:8080/",
          "height": 284
        }
      },
      "source": [
        "fig,ax = plt.subplots(1,1)\n",
        "ax.set_xlabel('epoch') ; ax.set_ylabel('Loss')\n",
        "x = list(range(1,epochs+1))\n",
        "\n",
        "vy1 = history.history['val_loss']\n",
        "ty1 = history.history['loss']\n",
        "plt_dynamic(x, vy1, ty1, ax)"
      ],
      "execution_count": 0,
      "outputs": [
        {
          "output_type": "display_data",
          "data": {
            "image/png": "[encoded data removed]",
            "text/plain": [
              "<Figure size 432x288 with 1 Axes>"
            ]
          },
          "metadata": {
            "tags": []
          }
        }
      ]
    },
    {
      "cell_type": "code",
      "metadata": {
        "id": "EiPWK2B1rrDb",
        "colab_type": "code",
        "outputId": "9484eba7-682d-493e-a7ab-172b2f140820",
        "colab": {
          "base_uri": "https://localhost:8080/",
          "height": 510
        }
      },
      "source": [
        "from keras.layers.normalization import BatchNormalization\n",
        "# Initiliazing the sequential model\n",
        "model = Sequential()\n",
        "# Configuring the parameters\n",
        "model.add(LSTM(32, input_shape=(timesteps, input_dim),return_sequences=True))\n",
        "model.add(BatchNormalization())\n",
        "# Adding a dropout layer\n",
        "model.add(Dropout(0.5))\n",
        "#Adding LSTM layer2\n",
        "model.add(LSTM(32))\n",
        "model.add(Dropout(0.5))\n",
        "model.add(BatchNormalization())\n",
        "# Adding a dense output layer with sigmoid activation\n",
        "model.add(Dense(n_classes, activation='sigmoid'))\n",
        "model.summary()"
      ],
      "execution_count": 0,
      "outputs": [
        {
          "output_type": "stream",
          "text": [
            "W0626 06:29:57.744171 140114888222592 deprecation_wrapper.py:119] From /usr/local/lib/python3.6/dist-packages/keras/backend/tensorflow_backend.py:133: The name tf.placeholder_with_default is deprecated. Please use tf.compat.v1.placeholder_with_default instead.\n",
            "\n",
            "W0626 06:29:57.768676 140114888222592 deprecation.py:506] From /usr/local/lib/python3.6/dist-packages/keras/backend/tensorflow_backend.py:3445: calling dropout (from tensorflow.python.ops.nn_ops) with keep_prob is deprecated and will be removed in a future version.\n",
            "Instructions for updating:\n",
            "Please use `rate` instead of `keep_prob`. Rate should be set to `rate = 1 - keep_prob`.\n"
          ],
          "name": "stderr"
        },
        {
          "output_type": "stream",
          "text": [
            "_________________________________________________________________\n",
            "Layer (type)                 Output Shape              Param #   \n",
            "=================================================================\n",
            "lstm_2 (LSTM)                (None, 128, 32)           5376      \n",
            "_________________________________________________________________\n",
            "batch_normalization_1 (Batch (None, 128, 32)           128       \n",
            "_________________________________________________________________\n",
            "dropout_1 (Dropout)          (None, 128, 32)           0         \n",
            "_________________________________________________________________\n",
            "lstm_3 (LSTM)                (None, 32)                8320      \n",
            "_________________________________________________________________\n",
            "dropout_2 (Dropout)          (None, 32)                0         \n",
            "_________________________________________________________________\n",
            "batch_normalization_2 (Batch (None, 32)                128       \n",
            "_________________________________________________________________\n",
            "dense_1 (Dense)              (None, 6)                 198       \n",
            "=================================================================\n",
            "Total params: 14,150\n",
            "Trainable params: 14,022\n",
            "Non-trainable params: 128\n",
            "_________________________________________________________________\n"
          ],
          "name": "stdout"
        }
      ]
    },
    {
      "cell_type": "code",
      "metadata": {
        "id": "boBAIztbvEDw",
        "colab_type": "code",
        "outputId": "1afbe7a1-a832-40b0-98cb-4dd0b1223a21",
        "colab": {
          "base_uri": "https://localhost:8080/",
          "height": 110
        }
      },
      "source": [
        "# Compiling the model\n",
        "model.compile(loss='categorical_crossentropy',\n",
        "              optimizer='rmsprop',\n",
        "              metrics=['accuracy'])"
      ],
      "execution_count": 0,
      "outputs": [
        {
          "output_type": "stream",
          "text": [
            "W0626 06:30:03.778546 140114888222592 deprecation_wrapper.py:119] From /usr/local/lib/python3.6/dist-packages/keras/optimizers.py:790: The name tf.train.Optimizer is deprecated. Please use tf.compat.v1.train.Optimizer instead.\n",
            "\n",
            "W0626 06:30:03.809847 140114888222592 deprecation_wrapper.py:119] From /usr/local/lib/python3.6/dist-packages/keras/backend/tensorflow_backend.py:3295: The name tf.log is deprecated. Please use tf.math.log instead.\n",
            "\n"
          ],
          "name": "stderr"
        }
      ]
    },
    {
      "cell_type": "code",
      "metadata": {
        "id": "pJwyYdJnvH9j",
        "colab_type": "code",
        "outputId": "03520cd0-f100-4b79-d4dd-3a12b402373a",
        "colab": {
          "base_uri": "https://localhost:8080/",
          "height": 1201
        }
      },
      "source": [
        "# Training the model\n",
        "history = model.fit(X_train,\n",
        "          Y_train,\n",
        "          batch_size=batch_size,\n",
        "          validation_data=(X_test, Y_test),\n",
        "          epochs=epochs)"
      ],
      "execution_count": 0,
      "outputs": [
        {
          "output_type": "stream",
          "text": [
            "W0626 06:30:08.402955 140114888222592 deprecation.py:323] From /usr/local/lib/python3.6/dist-packages/tensorflow/python/ops/math_grad.py:1250: add_dispatch_support.<locals>.wrapper (from tensorflow.python.ops.array_ops) is deprecated and will be removed in a future version.\n",
            "Instructions for updating:\n",
            "Use tf.where in 2.0, which has the same broadcast rule as np.where\n"
          ],
          "name": "stderr"
        },
        {
          "output_type": "stream",
          "text": [
            "Train on 7352 samples, validate on 2947 samples\n",
            "Epoch 1/30\n",
            "7352/7352 [==============================] - 200s 27ms/step - loss: 1.0858 - acc: 0.5987 - val_loss: 0.7729 - val_acc: 0.6525\n",
            "Epoch 2/30\n",
            "7352/7352 [==============================] - 194s 26ms/step - loss: 0.7320 - acc: 0.6994 - val_loss: 0.9675 - val_acc: 0.6335\n",
            "Epoch 3/30\n",
            "7352/7352 [==============================] - 192s 26ms/step - loss: 0.5471 - acc: 0.7854 - val_loss: 0.5732 - val_acc: 0.7937\n",
            "Epoch 4/30\n",
            "7352/7352 [==============================] - 193s 26ms/step - loss: 0.4070 - acc: 0.8538 - val_loss: 1.1617 - val_acc: 0.7581\n",
            "Epoch 5/30\n",
            "7352/7352 [==============================] - 191s 26ms/step - loss: 0.3052 - acc: 0.8983 - val_loss: 0.9434 - val_acc: 0.7547\n",
            "Epoch 6/30\n",
            "7352/7352 [==============================] - 192s 26ms/step - loss: 0.2678 - acc: 0.9117 - val_loss: 0.3766 - val_acc: 0.8816\n",
            "Epoch 7/30\n",
            "7352/7352 [==============================] - 192s 26ms/step - loss: 0.2327 - acc: 0.9233 - val_loss: 0.2334 - val_acc: 0.9074\n",
            "Epoch 8/30\n",
            "7352/7352 [==============================] - 190s 26ms/step - loss: 0.2229 - acc: 0.9217 - val_loss: 0.3066 - val_acc: 0.9070\n",
            "Epoch 9/30\n",
            "7352/7352 [==============================] - 191s 26ms/step - loss: 0.2045 - acc: 0.9270 - val_loss: 0.2598 - val_acc: 0.9148\n",
            "Epoch 10/30\n",
            "7352/7352 [==============================] - 191s 26ms/step - loss: 0.1886 - acc: 0.9285 - val_loss: 0.3360 - val_acc: 0.9060\n",
            "Epoch 11/30\n",
            "7352/7352 [==============================] - 192s 26ms/step - loss: 0.2108 - acc: 0.9325 - val_loss: 0.3056 - val_acc: 0.9118\n",
            "Epoch 12/30\n",
            "7352/7352 [==============================] - 188s 26ms/step - loss: 0.1873 - acc: 0.9339 - val_loss: 0.2498 - val_acc: 0.9128\n",
            "Epoch 13/30\n",
            "7352/7352 [==============================] - 181s 25ms/step - loss: 0.1813 - acc: 0.9366 - val_loss: 0.2732 - val_acc: 0.9260\n",
            "Epoch 14/30\n",
            "7352/7352 [==============================] - 179s 24ms/step - loss: 0.1961 - acc: 0.9343 - val_loss: 0.2971 - val_acc: 0.9162\n",
            "Epoch 15/30\n",
            "7352/7352 [==============================] - 179s 24ms/step - loss: 0.1830 - acc: 0.9347 - val_loss: 0.2766 - val_acc: 0.9267\n",
            "Epoch 16/30\n",
            "7352/7352 [==============================] - 179s 24ms/step - loss: 0.1802 - acc: 0.9372 - val_loss: 0.3024 - val_acc: 0.9111\n",
            "Epoch 17/30\n",
            "7352/7352 [==============================] - 177s 24ms/step - loss: 0.1764 - acc: 0.9380 - val_loss: 0.3351 - val_acc: 0.9128\n",
            "Epoch 18/30\n",
            "7352/7352 [==============================] - 176s 24ms/step - loss: 0.1632 - acc: 0.9400 - val_loss: 0.3189 - val_acc: 0.9230\n",
            "Epoch 19/30\n",
            "7352/7352 [==============================] - 176s 24ms/step - loss: 0.1730 - acc: 0.9380 - val_loss: 0.3500 - val_acc: 0.9141\n",
            "Epoch 20/30\n",
            "7352/7352 [==============================] - 176s 24ms/step - loss: 0.1636 - acc: 0.9418 - val_loss: 0.3952 - val_acc: 0.9077\n",
            "Epoch 21/30\n",
            "7352/7352 [==============================] - 177s 24ms/step - loss: 0.1703 - acc: 0.9444 - val_loss: 0.7015 - val_acc: 0.8517\n",
            "Epoch 22/30\n",
            "7352/7352 [==============================] - 176s 24ms/step - loss: 0.1628 - acc: 0.9404 - val_loss: 0.3211 - val_acc: 0.9138\n",
            "Epoch 23/30\n",
            "7352/7352 [==============================] - 177s 24ms/step - loss: 0.1593 - acc: 0.9430 - val_loss: 0.3549 - val_acc: 0.9237\n",
            "Epoch 24/30\n",
            "7352/7352 [==============================] - 175s 24ms/step - loss: 0.1619 - acc: 0.9415 - val_loss: 0.3369 - val_acc: 0.9186\n",
            "Epoch 25/30\n",
            "7352/7352 [==============================] - 180s 24ms/step - loss: 0.1614 - acc: 0.9446 - val_loss: 0.3116 - val_acc: 0.9226\n",
            "Epoch 26/30\n",
            "7352/7352 [==============================] - 185s 25ms/step - loss: 0.1550 - acc: 0.9467 - val_loss: 0.3609 - val_acc: 0.9216\n",
            "Epoch 27/30\n",
            "7352/7352 [==============================] - 186s 25ms/step - loss: 0.1750 - acc: 0.9416 - val_loss: 0.3825 - val_acc: 0.9145\n",
            "Epoch 28/30\n",
            "7352/7352 [==============================] - 188s 26ms/step - loss: 0.1573 - acc: 0.9442 - val_loss: 0.3670 - val_acc: 0.9128\n",
            "Epoch 29/30\n",
            "7352/7352 [==============================] - 189s 26ms/step - loss: 0.1599 - acc: 0.9403 - val_loss: 0.3630 - val_acc: 0.9216\n",
            "Epoch 30/30\n",
            "7352/7352 [==============================] - 187s 25ms/step - loss: 0.1637 - acc: 0.9442 - val_loss: 0.3769 - val_acc: 0.9128\n"
          ],
          "name": "stdout"
        }
      ]
    },
    {
      "cell_type": "code",
      "metadata": {
        "id": "5Wh5doIQz0kn",
        "colab_type": "code",
        "outputId": "394db031-876e-441c-bbc1-871161c93f09",
        "colab": {
          "base_uri": "https://localhost:8080/",
          "height": 199
        }
      },
      "source": [
        "# Confusion Matrix\n",
        "print(confusion_matrix(Y_test, model.predict(X_test)))"
      ],
      "execution_count": 0,
      "outputs": [
        {
          "output_type": "stream",
          "text": [
            "Pred                LAYING  SITTING  ...  WALKING_DOWNSTAIRS  WALKING_UPSTAIRS\n",
            "True                                 ...                                      \n",
            "LAYING                 537        0  ...                   0                 0\n",
            "SITTING                  0      381  ...                   0                 0\n",
            "STANDING                 0       81  ...                   0                 0\n",
            "WALKING                  0        0  ...                  26                 0\n",
            "WALKING_DOWNSTAIRS       0        0  ...                 420                 0\n",
            "WALKING_UPSTAIRS         0       10  ...                  14               432\n",
            "\n",
            "[6 rows x 6 columns]\n"
          ],
          "name": "stdout"
        }
      ]
    },
    {
      "cell_type": "code",
      "metadata": {
        "id": "JL4TwCWdQNDA",
        "colab_type": "code",
        "colab": {}
      },
      "source": [
        ""
      ],
      "execution_count": 0,
      "outputs": []
    },
    {
      "cell_type": "code",
      "metadata": {
        "id": "xbagpDhIz82y",
        "colab_type": "code",
        "outputId": "b322dcff-482e-4724-cdf9-0665b21f650b",
        "colab": {
          "base_uri": "https://localhost:8080/",
          "height": 35
        }
      },
      "source": [
        "score = model.evaluate(X_test, Y_test)"
      ],
      "execution_count": 0,
      "outputs": [
        {
          "output_type": "stream",
          "text": [
            "2947/2947 [==============================] - 14s 5ms/step\n"
          ],
          "name": "stdout"
        }
      ]
    },
    {
      "cell_type": "code",
      "metadata": {
        "id": "i8SZ6RmU0DhC",
        "colab_type": "code",
        "outputId": "1fd154b8-5c60-4032-ea45-873b55a6868f",
        "colab": {
          "base_uri": "https://localhost:8080/",
          "height": 35
        }
      },
      "source": [
        "score"
      ],
      "execution_count": 0,
      "outputs": [
        {
          "output_type": "execute_result",
          "data": {
            "text/plain": [
              "[0.3769732857711676, 0.9127926705123854]"
            ]
          },
          "metadata": {
            "tags": []
          },
          "execution_count": 25
        }
      ]
    },
    {
      "cell_type": "code",
      "metadata": {
        "id": "HMR6CJ2F0I5x",
        "colab_type": "code",
        "outputId": "32dc34a6-20d1-4ef8-9f14-bb9e95ab9be5",
        "colab": {
          "base_uri": "https://localhost:8080/",
          "height": 284
        }
      },
      "source": [
        "fig,ax = plt.subplots(1,1)\n",
        "ax.set_xlabel('epoch') ; ax.set_ylabel('Loss')\n",
        "x = list(range(1,epochs+1))\n",
        "\n",
        "vy1 = history.history['val_loss']\n",
        "ty1 = history.history['loss']\n",
        "plt_dynamic(x, vy1, ty1, ax)"
      ],
      "execution_count": 0,
      "outputs": [
        {
          "output_type": "display_data",
          "data": {
            "image/png": "[encoded data removed]",
            "text/plain": [
              "<Figure size 432x288 with 1 Axes>"
            ]
          },
          "metadata": {
            "tags": []
          }
        }
      ]
    },
    {
      "cell_type": "code",
      "metadata": {
        "id": "TIIFo7is7jxZ",
        "colab_type": "code",
        "colab": {
          "base_uri": "https://localhost:8080/",
          "height": 363
        },
        "outputId": "7713d857-4595-4f6d-a7bd-5566c411c1db"
      },
      "source": [
        "from keras.layers.normalization import BatchNormalization\n",
        "# Initiliazing the sequential model\n",
        "model = Sequential()\n",
        "# Configuring the parameters\n",
        "model.add(LSTM(64, input_shape=(timesteps, input_dim),return_sequences=True))\n",
        "model.add(BatchNormalization())\n",
        "# Adding a dropout layer\n",
        "model.add(Dropout(0.3))\n",
        "#Adding LSTM layer2\n",
        "model.add(LSTM(64))\n",
        "model.add(Dropout(0.5))\n",
        "# Adding a dense output layer with sigmoid activation\n",
        "model.add(Dense(n_classes, activation='sigmoid'))\n",
        "model.summary()"
      ],
      "execution_count": 27,
      "outputs": [
        {
          "output_type": "stream",
          "text": [
            "_________________________________________________________________\n",
            "Layer (type)                 Output Shape              Param #   \n",
            "=================================================================\n",
            "lstm_4 (LSTM)                (None, 128, 64)           18944     \n",
            "_________________________________________________________________\n",
            "batch_normalization_3 (Batch (None, 128, 64)           256       \n",
            "_________________________________________________________________\n",
            "dropout_3 (Dropout)          (None, 128, 64)           0         \n",
            "_________________________________________________________________\n",
            "lstm_5 (LSTM)                (None, 64)                33024     \n",
            "_________________________________________________________________\n",
            "dropout_4 (Dropout)          (None, 64)                0         \n",
            "_________________________________________________________________\n",
            "dense_2 (Dense)              (None, 6)                 390       \n",
            "=================================================================\n",
            "Total params: 52,614\n",
            "Trainable params: 52,486\n",
            "Non-trainable params: 128\n",
            "_________________________________________________________________\n"
          ],
          "name": "stdout"
        }
      ]
    },
    {
      "cell_type": "code",
      "metadata": {
        "id": "mTXM3-Ry8DEw",
        "colab_type": "code",
        "colab": {}
      },
      "source": [
        "# Compiling the model\n",
        "model.compile(loss='categorical_crossentropy',\n",
        "              optimizer='rmsprop',\n",
        "              metrics=['accuracy'])"
      ],
      "execution_count": 0,
      "outputs": []
    },
    {
      "cell_type": "code",
      "metadata": {
        "id": "EEi7z-zK8HUt",
        "colab_type": "code",
        "colab": {
          "base_uri": "https://localhost:8080/",
          "height": 1126
        },
        "outputId": "b4d10af4-e3e2-462f-b88f-d50bf1d1430d"
      },
      "source": [
        "# Training the model\n",
        "history = model.fit(X_train,\n",
        "          Y_train,\n",
        "          batch_size=batch_size,\n",
        "          validation_data=(X_test, Y_test),\n",
        "          epochs=epochs)"
      ],
      "execution_count": 29,
      "outputs": [
        {
          "output_type": "stream",
          "text": [
            "Train on 7352 samples, validate on 2947 samples\n",
            "Epoch 1/30\n",
            "7352/7352 [==============================] - 194s 26ms/step - loss: 0.7659 - acc: 0.7291 - val_loss: 0.4963 - val_acc: 0.8320\n",
            "Epoch 2/30\n",
            "7352/7352 [==============================] - 190s 26ms/step - loss: 0.2854 - acc: 0.9100 - val_loss: 0.2504 - val_acc: 0.9169\n",
            "Epoch 3/30\n",
            "7352/7352 [==============================] - 190s 26ms/step - loss: 0.2106 - acc: 0.9257 - val_loss: 0.5413 - val_acc: 0.8069\n",
            "Epoch 4/30\n",
            "7352/7352 [==============================] - 184s 25ms/step - loss: 0.1862 - acc: 0.9334 - val_loss: 0.5743 - val_acc: 0.8310\n",
            "Epoch 5/30\n",
            "7352/7352 [==============================] - 177s 24ms/step - loss: 0.1668 - acc: 0.9365 - val_loss: 0.2945 - val_acc: 0.9145\n",
            "Epoch 6/30\n",
            "7352/7352 [==============================] - 177s 24ms/step - loss: 0.1674 - acc: 0.9391 - val_loss: 0.3025 - val_acc: 0.9057\n",
            "Epoch 7/30\n",
            "7352/7352 [==============================] - 175s 24ms/step - loss: 0.1470 - acc: 0.9430 - val_loss: 0.3044 - val_acc: 0.9216\n",
            "Epoch 8/30\n",
            "7352/7352 [==============================] - 176s 24ms/step - loss: 0.1584 - acc: 0.9369 - val_loss: 0.3826 - val_acc: 0.9067\n",
            "Epoch 9/30\n",
            "7352/7352 [==============================] - 175s 24ms/step - loss: 0.1427 - acc: 0.9440 - val_loss: 0.3393 - val_acc: 0.9108\n",
            "Epoch 10/30\n",
            "7352/7352 [==============================] - 173s 24ms/step - loss: 0.1403 - acc: 0.9475 - val_loss: 0.3484 - val_acc: 0.9060\n",
            "Epoch 11/30\n",
            "7352/7352 [==============================] - 173s 24ms/step - loss: 0.1473 - acc: 0.9423 - val_loss: 0.3258 - val_acc: 0.9060\n",
            "Epoch 12/30\n",
            "7352/7352 [==============================] - 172s 23ms/step - loss: 0.1434 - acc: 0.9476 - val_loss: 0.4088 - val_acc: 0.9074\n",
            "Epoch 13/30\n",
            "7352/7352 [==============================] - 173s 23ms/step - loss: 0.1396 - acc: 0.9474 - val_loss: 0.3341 - val_acc: 0.9179\n",
            "Epoch 14/30\n",
            "7352/7352 [==============================] - 174s 24ms/step - loss: 0.1334 - acc: 0.9499 - val_loss: 0.2911 - val_acc: 0.9250\n",
            "Epoch 15/30\n",
            "7352/7352 [==============================] - 175s 24ms/step - loss: 0.1371 - acc: 0.9487 - val_loss: 0.4537 - val_acc: 0.9057\n",
            "Epoch 16/30\n",
            "7352/7352 [==============================] - 172s 23ms/step - loss: 0.1456 - acc: 0.9453 - val_loss: 0.3369 - val_acc: 0.9152\n",
            "Epoch 17/30\n",
            "7352/7352 [==============================] - 172s 23ms/step - loss: 0.1410 - acc: 0.9487 - val_loss: 0.4176 - val_acc: 0.9087\n",
            "Epoch 18/30\n",
            "7352/7352 [==============================] - 171s 23ms/step - loss: 0.1259 - acc: 0.9520 - val_loss: 0.3067 - val_acc: 0.9186\n",
            "Epoch 19/30\n",
            "7352/7352 [==============================] - 171s 23ms/step - loss: 0.1247 - acc: 0.9518 - val_loss: 0.3856 - val_acc: 0.9158\n",
            "Epoch 20/30\n",
            "7352/7352 [==============================] - 172s 23ms/step - loss: 0.1386 - acc: 0.9484 - val_loss: 0.3437 - val_acc: 0.9206\n",
            "Epoch 21/30\n",
            "7352/7352 [==============================] - 171s 23ms/step - loss: 0.1263 - acc: 0.9512 - val_loss: 0.4155 - val_acc: 0.9253\n",
            "Epoch 22/30\n",
            "7352/7352 [==============================] - 172s 23ms/step - loss: 0.1298 - acc: 0.9510 - val_loss: 0.4211 - val_acc: 0.9172\n",
            "Epoch 23/30\n",
            "7352/7352 [==============================] - 171s 23ms/step - loss: 0.1269 - acc: 0.9502 - val_loss: 0.4421 - val_acc: 0.9233\n",
            "Epoch 24/30\n",
            "7352/7352 [==============================] - 173s 24ms/step - loss: 0.1235 - acc: 0.9525 - val_loss: 0.3984 - val_acc: 0.9247\n",
            "Epoch 25/30\n",
            "7352/7352 [==============================] - 173s 24ms/step - loss: 0.1302 - acc: 0.9544 - val_loss: 0.4081 - val_acc: 0.9220\n",
            "Epoch 26/30\n",
            "7352/7352 [==============================] - 175s 24ms/step - loss: 0.1369 - acc: 0.9487 - val_loss: 0.3523 - val_acc: 0.9298\n",
            "Epoch 27/30\n",
            "7352/7352 [==============================] - 173s 24ms/step - loss: 0.1230 - acc: 0.9527 - val_loss: 0.4069 - val_acc: 0.9209\n",
            "Epoch 28/30\n",
            "7352/7352 [==============================] - 174s 24ms/step - loss: 0.1267 - acc: 0.9538 - val_loss: 0.3097 - val_acc: 0.9281\n",
            "Epoch 29/30\n",
            "7352/7352 [==============================] - 175s 24ms/step - loss: 0.1183 - acc: 0.9520 - val_loss: 0.3439 - val_acc: 0.9226\n",
            "Epoch 30/30\n",
            "7352/7352 [==============================] - 174s 24ms/step - loss: 0.1344 - acc: 0.9525 - val_loss: 0.3545 - val_acc: 0.9284\n"
          ],
          "name": "stdout"
        }
      ]
    },
    {
      "cell_type": "code",
      "metadata": {
        "id": "e5spkDk-QOf3",
        "colab_type": "code",
        "colab": {
          "base_uri": "https://localhost:8080/",
          "height": 199
        },
        "outputId": "64892331-5c87-439a-a2ff-093ef77cf8ae"
      },
      "source": [
        "# Confusion Matrix\n",
        "print(confusion_matrix(Y_test, model.predict(X_test)))"
      ],
      "execution_count": 30,
      "outputs": [
        {
          "output_type": "stream",
          "text": [
            "Pred                LAYING  SITTING  ...  WALKING_DOWNSTAIRS  WALKING_UPSTAIRS\n",
            "True                                 ...                                      \n",
            "LAYING                 537        0  ...                   0                 0\n",
            "SITTING                  2      385  ...                   0                 0\n",
            "STANDING                 0       54  ...                   0                 0\n",
            "WALKING                  0        0  ...                  25                 2\n",
            "WALKING_DOWNSTAIRS       0        0  ...                 415                 4\n",
            "WALKING_UPSTAIRS         0        0  ...                  16               454\n",
            "\n",
            "[6 rows x 6 columns]\n"
          ],
          "name": "stdout"
        }
      ]
    },
    {
      "cell_type": "code",
      "metadata": {
        "id": "CIASCZoyQX5z",
        "colab_type": "code",
        "colab": {
          "base_uri": "https://localhost:8080/",
          "height": 35
        },
        "outputId": "fa696bc5-5b3a-4173-df6a-63551e6a0aaa"
      },
      "source": [
        "score = model.evaluate(X_test, Y_test)"
      ],
      "execution_count": 31,
      "outputs": [
        {
          "output_type": "stream",
          "text": [
            "2947/2947 [==============================] - 13s 4ms/step\n"
          ],
          "name": "stdout"
        }
      ]
    },
    {
      "cell_type": "code",
      "metadata": {
        "id": "RDD4rUQmQZ-p",
        "colab_type": "code",
        "colab": {
          "base_uri": "https://localhost:8080/",
          "height": 35
        },
        "outputId": "86dcb185-8c20-423d-bd28-3dfcdc251db9"
      },
      "source": [
        "score"
      ],
      "execution_count": 32,
      "outputs": [
        {
          "output_type": "execute_result",
          "data": {
            "text/plain": [
              "[0.35462715743362244, 0.9284017645062775]"
            ]
          },
          "metadata": {
            "tags": []
          },
          "execution_count": 32
        }
      ]
    },
    {
      "cell_type": "code",
      "metadata": {
        "id": "KVCPsFbaQe82",
        "colab_type": "code",
        "colab": {
          "base_uri": "https://localhost:8080/",
          "height": 284
        },
        "outputId": "8f750c01-042d-4454-f55a-2225e1776925"
      },
      "source": [
        "fig,ax = plt.subplots(1,1)\n",
        "ax.set_xlabel('epoch') ; ax.set_ylabel('Loss')\n",
        "x = list(range(1,epochs+1))\n",
        "\n",
        "vy1 = history.history['val_loss']\n",
        "ty1 = history.history['loss']\n",
        "plt_dynamic(x, vy1, ty1, ax)"
      ],
      "execution_count": 33,
      "outputs": [
        {
          "output_type": "display_data",
          "data": {
            "image/png": "[encoded data removed]",
            "text/plain": [
              "<Figure size 432x288 with 1 Axes>"
            ]
          },
          "metadata": {
            "tags": []
          }
        }
      ]
    },
    {
      "cell_type": "code",
      "metadata": {
        "id": "leuu7SsiXYuS",
        "colab_type": "code",
        "colab": {
          "base_uri": "https://localhost:8080/",
          "height": 181
        },
        "outputId": "7ae1d669-4f79-4013-8b9d-9e1defacdc37"
      },
      "source": [
        "from prettytable import PrettyTable\n",
        "x = PrettyTable()\n",
        "x.field_names = [\"Layers\",\"accuracy\"]\n",
        "x.add_row([\"LSTM(128)-drop(0.5)-LSTM(20)-DROPOUT(0.5)-Dense\",.89])\n",
        "x.add_row([\"LSTM(128)-drop(0.4)-LSTM(20)-DROPOUT(0.4)-Dense\",.90])\n",
        "x.add_row([\"LSTM(16)-drop(0.5)-LSTM(20)-DROPOUT(0.5)-BN-Dense\",.90])\n",
        "x.add_row([\"LSTM(32)-BN-drop(0.5)-LSTM(32)-DROPOUT(0.5)-BN-Dense\",.91])\n",
        "x.add_row([\"LSTM(64)-BN-drop(0.3)-LSTM(64)-DROPOUT(0.5)-Dense\",.92])\n",
        "\n",
        "\n",
        "print(x)"
      ],
      "execution_count": 34,
      "outputs": [
        {
          "output_type": "stream",
          "text": [
            "+------------------------------------------------------+----------+\n",
            "|                        Layers                        | accuracy |\n",
            "+------------------------------------------------------+----------+\n",
            "|   LSTM(128)-drop(0.5)-LSTM(20)-DROPOUT(0.5)-Dense    |   0.89   |\n",
            "|   LSTM(128)-drop(0.4)-LSTM(20)-DROPOUT(0.4)-Dense    |   0.9    |\n",
            "|  LSTM(16)-drop(0.5)-LSTM(20)-DROPOUT(0.5)-BN-Dense   |   0.9    |\n",
            "| LSTM(32)-BN-drop(0.5)-LSTM(32)-DROPOUT(0.5)-BN-Dense |   0.91   |\n",
            "|  LSTM(64)-BN-drop(0.3)-LSTM(64)-DROPOUT(0.5)-Dense   |   0.92   |\n",
            "+------------------------------------------------------+----------+\n"
          ],
          "name": "stdout"
        }
      ]
    }
  ]
}